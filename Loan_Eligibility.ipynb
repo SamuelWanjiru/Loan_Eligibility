{
  "nbformat": 4,
  "nbformat_minor": 0,
  "metadata": {
    "colab": {
      "provenance": [],
      "authorship_tag": "ABX9TyNpy97V17M0Vu7k9fZi1a1O",
      "include_colab_link": true
    },
    "kernelspec": {
      "name": "python3",
      "display_name": "Python 3"
    },
    "language_info": {
      "name": "python"
    }
  },
  "cells": [
    {
      "cell_type": "markdown",
      "metadata": {
        "id": "view-in-github",
        "colab_type": "text"
      },
      "source": [
        "<a href=\"https://colab.research.google.com/github/SamuelWanjiru/Loan_Eligibility/blob/main/Loan_Eligibility.ipynb\" target=\"_parent\"><img src=\"https://colab.research.google.com/assets/colab-badge.svg\" alt=\"Open In Colab\"/></a>"
      ]
    },
    {
      "cell_type": "markdown",
      "source": [
        "# **<font color='blue'> Loan Eligibility Prediction 💰 </font>**"
      ],
      "metadata": {
        "id": "X71JpL43fcIt"
      }
    },
    {
      "cell_type": "markdown",
      "source": [
        "In this notebook, we are going to predict customers that are eligible for a loan and check the missing creterion to know why some customers are getting loans to build their own homes"
      ],
      "metadata": {
        "id": "oc_iwKWKf8PX"
      }
    },
    {
      "cell_type": "markdown",
      "source": [
        "## **Problem / task**\n",
        "\n",
        "A company has contracted you to automate their loan eligibility process on a real time scenario based on the details a customer provides during the loan application process.\n",
        "\n",
        "To achieve this, the following steps are applied:\n",
        "\n",
        "<font color='blue'>\n",
        "\n",
        "1.   Exploratory Data Analysis. \n",
        "2.   Data Visualizations.\n",
        "3.   Machine Learning Model Decision.\n",
        "1.   Model training & prediction.\n",
        "2.   Model deployment.\n",
        "\n",
        "</font>\n",
        "\n",
        "\n",
        "\n"
      ],
      "metadata": {
        "id": "To6aClBKheOL"
      }
    },
    {
      "cell_type": "markdown",
      "source": [
        "## **Connecting/mounting the google drive**"
      ],
      "metadata": {
        "id": "9OgZ7zollTSg"
      }
    },
    {
      "cell_type": "code",
      "source": [
        "from google.colab import drive \n",
        "drive.mount('/content/gdrive')"
      ],
      "metadata": {
        "colab": {
          "base_uri": "https://localhost:8080/"
        },
        "id": "RMx5-uVRlWxB",
        "outputId": "e184a892-4285-4323-ea03-1b2f85e88842"
      },
      "execution_count": 2,
      "outputs": [
        {
          "output_type": "stream",
          "name": "stdout",
          "text": [
            "Mounted at /content/gdrive\n"
          ]
        }
      ]
    },
    {
      "cell_type": "markdown",
      "source": [
        "### **Importing the relevant data analysis libraries**"
      ],
      "metadata": {
        "id": "dk7fSZA_kv17"
      }
    },
    {
      "cell_type": "code",
      "source": [
        "import pandas as pd\n",
        "import numpy as np\n",
        "import matplotlib.pyplot as plt\n",
        "import seaborn as sns\n",
        "sns.set_style('dark')\n",
        "import missingno as msno\n",
        "from sklearn.preprocessing import LabelEncoder\n",
        "import pickle as pkl"
      ],
      "metadata": {
        "id": "wpMiIPYlfrlx"
      },
      "execution_count": 66,
      "outputs": []
    },
    {
      "cell_type": "markdown",
      "source": [
        "### **Loading the dataset from google drive**\n",
        "\n",
        "The dataset is subdivided into train and test."
      ],
      "metadata": {
        "id": "uChQKK3wlwM3"
      }
    },
    {
      "cell_type": "code",
      "source": [
        "loan_train_data = pd.read_csv(r'/content/gdrive/My Drive/KAGGLE PROJECTS/Loan Eligibility/Data/loan-train.csv')\n",
        "loan_test_data = pd.read_csv(r'/content/gdrive/My Drive/KAGGLE PROJECTS/Loan Eligibility/Data/loan-test.csv')"
      ],
      "metadata": {
        "id": "OpEAH7pElxE4"
      },
      "execution_count": 10,
      "outputs": []
    },
    {
      "cell_type": "markdown",
      "source": [
        "### **Understanding the data**"
      ],
      "metadata": {
        "id": "wAyWfzIUnLjb"
      }
    },
    {
      "cell_type": "code",
      "source": [
        "# Displaying the 1st 5 observations of the train dataset\n",
        "loan_train_data.head()"
      ],
      "metadata": {
        "colab": {
          "base_uri": "https://localhost:8080/",
          "height": 250
        },
        "id": "TKiF_TE1nBs_",
        "outputId": "e91a05f5-5ec9-41ac-e32d-3b641efe4420"
      },
      "execution_count": 9,
      "outputs": [
        {
          "output_type": "execute_result",
          "data": {
            "text/plain": [
              "    Loan_ID Gender Married Dependents     Education Self_Employed  \\\n",
              "0  LP001002   Male      No          0      Graduate            No   \n",
              "1  LP001003   Male     Yes          1      Graduate            No   \n",
              "2  LP001005   Male     Yes          0      Graduate           Yes   \n",
              "3  LP001006   Male     Yes          0  Not Graduate            No   \n",
              "4  LP001008   Male      No          0      Graduate            No   \n",
              "\n",
              "   ApplicantIncome  CoapplicantIncome  LoanAmount  Loan_Amount_Term  \\\n",
              "0             5849                0.0         NaN             360.0   \n",
              "1             4583             1508.0       128.0             360.0   \n",
              "2             3000                0.0        66.0             360.0   \n",
              "3             2583             2358.0       120.0             360.0   \n",
              "4             6000                0.0       141.0             360.0   \n",
              "\n",
              "   Credit_History Property_Area Loan_Status  \n",
              "0             1.0         Urban           Y  \n",
              "1             1.0         Rural           N  \n",
              "2             1.0         Urban           Y  \n",
              "3             1.0         Urban           Y  \n",
              "4             1.0         Urban           Y  "
            ],
            "text/html": [
              "\n",
              "  <div id=\"df-c1adc133-579b-437e-baa6-ab770b4ba863\">\n",
              "    <div class=\"colab-df-container\">\n",
              "      <div>\n",
              "<style scoped>\n",
              "    .dataframe tbody tr th:only-of-type {\n",
              "        vertical-align: middle;\n",
              "    }\n",
              "\n",
              "    .dataframe tbody tr th {\n",
              "        vertical-align: top;\n",
              "    }\n",
              "\n",
              "    .dataframe thead th {\n",
              "        text-align: right;\n",
              "    }\n",
              "</style>\n",
              "<table border=\"1\" class=\"dataframe\">\n",
              "  <thead>\n",
              "    <tr style=\"text-align: right;\">\n",
              "      <th></th>\n",
              "      <th>Loan_ID</th>\n",
              "      <th>Gender</th>\n",
              "      <th>Married</th>\n",
              "      <th>Dependents</th>\n",
              "      <th>Education</th>\n",
              "      <th>Self_Employed</th>\n",
              "      <th>ApplicantIncome</th>\n",
              "      <th>CoapplicantIncome</th>\n",
              "      <th>LoanAmount</th>\n",
              "      <th>Loan_Amount_Term</th>\n",
              "      <th>Credit_History</th>\n",
              "      <th>Property_Area</th>\n",
              "      <th>Loan_Status</th>\n",
              "    </tr>\n",
              "  </thead>\n",
              "  <tbody>\n",
              "    <tr>\n",
              "      <th>0</th>\n",
              "      <td>LP001002</td>\n",
              "      <td>Male</td>\n",
              "      <td>No</td>\n",
              "      <td>0</td>\n",
              "      <td>Graduate</td>\n",
              "      <td>No</td>\n",
              "      <td>5849</td>\n",
              "      <td>0.0</td>\n",
              "      <td>NaN</td>\n",
              "      <td>360.0</td>\n",
              "      <td>1.0</td>\n",
              "      <td>Urban</td>\n",
              "      <td>Y</td>\n",
              "    </tr>\n",
              "    <tr>\n",
              "      <th>1</th>\n",
              "      <td>LP001003</td>\n",
              "      <td>Male</td>\n",
              "      <td>Yes</td>\n",
              "      <td>1</td>\n",
              "      <td>Graduate</td>\n",
              "      <td>No</td>\n",
              "      <td>4583</td>\n",
              "      <td>1508.0</td>\n",
              "      <td>128.0</td>\n",
              "      <td>360.0</td>\n",
              "      <td>1.0</td>\n",
              "      <td>Rural</td>\n",
              "      <td>N</td>\n",
              "    </tr>\n",
              "    <tr>\n",
              "      <th>2</th>\n",
              "      <td>LP001005</td>\n",
              "      <td>Male</td>\n",
              "      <td>Yes</td>\n",
              "      <td>0</td>\n",
              "      <td>Graduate</td>\n",
              "      <td>Yes</td>\n",
              "      <td>3000</td>\n",
              "      <td>0.0</td>\n",
              "      <td>66.0</td>\n",
              "      <td>360.0</td>\n",
              "      <td>1.0</td>\n",
              "      <td>Urban</td>\n",
              "      <td>Y</td>\n",
              "    </tr>\n",
              "    <tr>\n",
              "      <th>3</th>\n",
              "      <td>LP001006</td>\n",
              "      <td>Male</td>\n",
              "      <td>Yes</td>\n",
              "      <td>0</td>\n",
              "      <td>Not Graduate</td>\n",
              "      <td>No</td>\n",
              "      <td>2583</td>\n",
              "      <td>2358.0</td>\n",
              "      <td>120.0</td>\n",
              "      <td>360.0</td>\n",
              "      <td>1.0</td>\n",
              "      <td>Urban</td>\n",
              "      <td>Y</td>\n",
              "    </tr>\n",
              "    <tr>\n",
              "      <th>4</th>\n",
              "      <td>LP001008</td>\n",
              "      <td>Male</td>\n",
              "      <td>No</td>\n",
              "      <td>0</td>\n",
              "      <td>Graduate</td>\n",
              "      <td>No</td>\n",
              "      <td>6000</td>\n",
              "      <td>0.0</td>\n",
              "      <td>141.0</td>\n",
              "      <td>360.0</td>\n",
              "      <td>1.0</td>\n",
              "      <td>Urban</td>\n",
              "      <td>Y</td>\n",
              "    </tr>\n",
              "  </tbody>\n",
              "</table>\n",
              "</div>\n",
              "      <button class=\"colab-df-convert\" onclick=\"convertToInteractive('df-c1adc133-579b-437e-baa6-ab770b4ba863')\"\n",
              "              title=\"Convert this dataframe to an interactive table.\"\n",
              "              style=\"display:none;\">\n",
              "        \n",
              "  <svg xmlns=\"http://www.w3.org/2000/svg\" height=\"24px\"viewBox=\"0 0 24 24\"\n",
              "       width=\"24px\">\n",
              "    <path d=\"M0 0h24v24H0V0z\" fill=\"none\"/>\n",
              "    <path d=\"M18.56 5.44l.94 2.06.94-2.06 2.06-.94-2.06-.94-.94-2.06-.94 2.06-2.06.94zm-11 1L8.5 8.5l.94-2.06 2.06-.94-2.06-.94L8.5 2.5l-.94 2.06-2.06.94zm10 10l.94 2.06.94-2.06 2.06-.94-2.06-.94-.94-2.06-.94 2.06-2.06.94z\"/><path d=\"M17.41 7.96l-1.37-1.37c-.4-.4-.92-.59-1.43-.59-.52 0-1.04.2-1.43.59L10.3 9.45l-7.72 7.72c-.78.78-.78 2.05 0 2.83L4 21.41c.39.39.9.59 1.41.59.51 0 1.02-.2 1.41-.59l7.78-7.78 2.81-2.81c.8-.78.8-2.07 0-2.86zM5.41 20L4 18.59l7.72-7.72 1.47 1.35L5.41 20z\"/>\n",
              "  </svg>\n",
              "      </button>\n",
              "      \n",
              "  <style>\n",
              "    .colab-df-container {\n",
              "      display:flex;\n",
              "      flex-wrap:wrap;\n",
              "      gap: 12px;\n",
              "    }\n",
              "\n",
              "    .colab-df-convert {\n",
              "      background-color: #E8F0FE;\n",
              "      border: none;\n",
              "      border-radius: 50%;\n",
              "      cursor: pointer;\n",
              "      display: none;\n",
              "      fill: #1967D2;\n",
              "      height: 32px;\n",
              "      padding: 0 0 0 0;\n",
              "      width: 32px;\n",
              "    }\n",
              "\n",
              "    .colab-df-convert:hover {\n",
              "      background-color: #E2EBFA;\n",
              "      box-shadow: 0px 1px 2px rgba(60, 64, 67, 0.3), 0px 1px 3px 1px rgba(60, 64, 67, 0.15);\n",
              "      fill: #174EA6;\n",
              "    }\n",
              "\n",
              "    [theme=dark] .colab-df-convert {\n",
              "      background-color: #3B4455;\n",
              "      fill: #D2E3FC;\n",
              "    }\n",
              "\n",
              "    [theme=dark] .colab-df-convert:hover {\n",
              "      background-color: #434B5C;\n",
              "      box-shadow: 0px 1px 3px 1px rgba(0, 0, 0, 0.15);\n",
              "      filter: drop-shadow(0px 1px 2px rgba(0, 0, 0, 0.3));\n",
              "      fill: #FFFFFF;\n",
              "    }\n",
              "  </style>\n",
              "\n",
              "      <script>\n",
              "        const buttonEl =\n",
              "          document.querySelector('#df-c1adc133-579b-437e-baa6-ab770b4ba863 button.colab-df-convert');\n",
              "        buttonEl.style.display =\n",
              "          google.colab.kernel.accessAllowed ? 'block' : 'none';\n",
              "\n",
              "        async function convertToInteractive(key) {\n",
              "          const element = document.querySelector('#df-c1adc133-579b-437e-baa6-ab770b4ba863');\n",
              "          const dataTable =\n",
              "            await google.colab.kernel.invokeFunction('convertToInteractive',\n",
              "                                                     [key], {});\n",
              "          if (!dataTable) return;\n",
              "\n",
              "          const docLinkHtml = 'Like what you see? Visit the ' +\n",
              "            '<a target=\"_blank\" href=https://colab.research.google.com/notebooks/data_table.ipynb>data table notebook</a>'\n",
              "            + ' to learn more about interactive tables.';\n",
              "          element.innerHTML = '';\n",
              "          dataTable['output_type'] = 'display_data';\n",
              "          await google.colab.output.renderOutput(dataTable, element);\n",
              "          const docLink = document.createElement('div');\n",
              "          docLink.innerHTML = docLinkHtml;\n",
              "          element.appendChild(docLink);\n",
              "        }\n",
              "      </script>\n",
              "    </div>\n",
              "  </div>\n",
              "  "
            ]
          },
          "metadata": {},
          "execution_count": 9
        }
      ]
    },
    {
      "cell_type": "code",
      "source": [
        "# Displaying the 1st 5 observations of the test dataset\n",
        "loan_test_data.head()"
      ],
      "metadata": {
        "colab": {
          "base_uri": "https://localhost:8080/",
          "height": 206
        },
        "id": "TYsSr449ng4K",
        "outputId": "c64fe358-76e4-4dfe-df06-cc59a5bbe2dc"
      },
      "execution_count": 8,
      "outputs": [
        {
          "output_type": "execute_result",
          "data": {
            "text/plain": [
              "    Loan_ID Gender Married Dependents     Education Self_Employed  \\\n",
              "0  LP001015   Male     Yes          0      Graduate            No   \n",
              "1  LP001022   Male     Yes          1      Graduate            No   \n",
              "2  LP001031   Male     Yes          2      Graduate            No   \n",
              "3  LP001035   Male     Yes          2      Graduate            No   \n",
              "4  LP001051   Male      No          0  Not Graduate            No   \n",
              "\n",
              "   ApplicantIncome  CoapplicantIncome  LoanAmount  Loan_Amount_Term  \\\n",
              "0             5720                  0       110.0             360.0   \n",
              "1             3076               1500       126.0             360.0   \n",
              "2             5000               1800       208.0             360.0   \n",
              "3             2340               2546       100.0             360.0   \n",
              "4             3276                  0        78.0             360.0   \n",
              "\n",
              "   Credit_History Property_Area  \n",
              "0             1.0         Urban  \n",
              "1             1.0         Urban  \n",
              "2             1.0         Urban  \n",
              "3             NaN         Urban  \n",
              "4             1.0         Urban  "
            ],
            "text/html": [
              "\n",
              "  <div id=\"df-3928f591-15ca-4e7b-ae3d-97b1146edab4\">\n",
              "    <div class=\"colab-df-container\">\n",
              "      <div>\n",
              "<style scoped>\n",
              "    .dataframe tbody tr th:only-of-type {\n",
              "        vertical-align: middle;\n",
              "    }\n",
              "\n",
              "    .dataframe tbody tr th {\n",
              "        vertical-align: top;\n",
              "    }\n",
              "\n",
              "    .dataframe thead th {\n",
              "        text-align: right;\n",
              "    }\n",
              "</style>\n",
              "<table border=\"1\" class=\"dataframe\">\n",
              "  <thead>\n",
              "    <tr style=\"text-align: right;\">\n",
              "      <th></th>\n",
              "      <th>Loan_ID</th>\n",
              "      <th>Gender</th>\n",
              "      <th>Married</th>\n",
              "      <th>Dependents</th>\n",
              "      <th>Education</th>\n",
              "      <th>Self_Employed</th>\n",
              "      <th>ApplicantIncome</th>\n",
              "      <th>CoapplicantIncome</th>\n",
              "      <th>LoanAmount</th>\n",
              "      <th>Loan_Amount_Term</th>\n",
              "      <th>Credit_History</th>\n",
              "      <th>Property_Area</th>\n",
              "    </tr>\n",
              "  </thead>\n",
              "  <tbody>\n",
              "    <tr>\n",
              "      <th>0</th>\n",
              "      <td>LP001015</td>\n",
              "      <td>Male</td>\n",
              "      <td>Yes</td>\n",
              "      <td>0</td>\n",
              "      <td>Graduate</td>\n",
              "      <td>No</td>\n",
              "      <td>5720</td>\n",
              "      <td>0</td>\n",
              "      <td>110.0</td>\n",
              "      <td>360.0</td>\n",
              "      <td>1.0</td>\n",
              "      <td>Urban</td>\n",
              "    </tr>\n",
              "    <tr>\n",
              "      <th>1</th>\n",
              "      <td>LP001022</td>\n",
              "      <td>Male</td>\n",
              "      <td>Yes</td>\n",
              "      <td>1</td>\n",
              "      <td>Graduate</td>\n",
              "      <td>No</td>\n",
              "      <td>3076</td>\n",
              "      <td>1500</td>\n",
              "      <td>126.0</td>\n",
              "      <td>360.0</td>\n",
              "      <td>1.0</td>\n",
              "      <td>Urban</td>\n",
              "    </tr>\n",
              "    <tr>\n",
              "      <th>2</th>\n",
              "      <td>LP001031</td>\n",
              "      <td>Male</td>\n",
              "      <td>Yes</td>\n",
              "      <td>2</td>\n",
              "      <td>Graduate</td>\n",
              "      <td>No</td>\n",
              "      <td>5000</td>\n",
              "      <td>1800</td>\n",
              "      <td>208.0</td>\n",
              "      <td>360.0</td>\n",
              "      <td>1.0</td>\n",
              "      <td>Urban</td>\n",
              "    </tr>\n",
              "    <tr>\n",
              "      <th>3</th>\n",
              "      <td>LP001035</td>\n",
              "      <td>Male</td>\n",
              "      <td>Yes</td>\n",
              "      <td>2</td>\n",
              "      <td>Graduate</td>\n",
              "      <td>No</td>\n",
              "      <td>2340</td>\n",
              "      <td>2546</td>\n",
              "      <td>100.0</td>\n",
              "      <td>360.0</td>\n",
              "      <td>NaN</td>\n",
              "      <td>Urban</td>\n",
              "    </tr>\n",
              "    <tr>\n",
              "      <th>4</th>\n",
              "      <td>LP001051</td>\n",
              "      <td>Male</td>\n",
              "      <td>No</td>\n",
              "      <td>0</td>\n",
              "      <td>Not Graduate</td>\n",
              "      <td>No</td>\n",
              "      <td>3276</td>\n",
              "      <td>0</td>\n",
              "      <td>78.0</td>\n",
              "      <td>360.0</td>\n",
              "      <td>1.0</td>\n",
              "      <td>Urban</td>\n",
              "    </tr>\n",
              "  </tbody>\n",
              "</table>\n",
              "</div>\n",
              "      <button class=\"colab-df-convert\" onclick=\"convertToInteractive('df-3928f591-15ca-4e7b-ae3d-97b1146edab4')\"\n",
              "              title=\"Convert this dataframe to an interactive table.\"\n",
              "              style=\"display:none;\">\n",
              "        \n",
              "  <svg xmlns=\"http://www.w3.org/2000/svg\" height=\"24px\"viewBox=\"0 0 24 24\"\n",
              "       width=\"24px\">\n",
              "    <path d=\"M0 0h24v24H0V0z\" fill=\"none\"/>\n",
              "    <path d=\"M18.56 5.44l.94 2.06.94-2.06 2.06-.94-2.06-.94-.94-2.06-.94 2.06-2.06.94zm-11 1L8.5 8.5l.94-2.06 2.06-.94-2.06-.94L8.5 2.5l-.94 2.06-2.06.94zm10 10l.94 2.06.94-2.06 2.06-.94-2.06-.94-.94-2.06-.94 2.06-2.06.94z\"/><path d=\"M17.41 7.96l-1.37-1.37c-.4-.4-.92-.59-1.43-.59-.52 0-1.04.2-1.43.59L10.3 9.45l-7.72 7.72c-.78.78-.78 2.05 0 2.83L4 21.41c.39.39.9.59 1.41.59.51 0 1.02-.2 1.41-.59l7.78-7.78 2.81-2.81c.8-.78.8-2.07 0-2.86zM5.41 20L4 18.59l7.72-7.72 1.47 1.35L5.41 20z\"/>\n",
              "  </svg>\n",
              "      </button>\n",
              "      \n",
              "  <style>\n",
              "    .colab-df-container {\n",
              "      display:flex;\n",
              "      flex-wrap:wrap;\n",
              "      gap: 12px;\n",
              "    }\n",
              "\n",
              "    .colab-df-convert {\n",
              "      background-color: #E8F0FE;\n",
              "      border: none;\n",
              "      border-radius: 50%;\n",
              "      cursor: pointer;\n",
              "      display: none;\n",
              "      fill: #1967D2;\n",
              "      height: 32px;\n",
              "      padding: 0 0 0 0;\n",
              "      width: 32px;\n",
              "    }\n",
              "\n",
              "    .colab-df-convert:hover {\n",
              "      background-color: #E2EBFA;\n",
              "      box-shadow: 0px 1px 2px rgba(60, 64, 67, 0.3), 0px 1px 3px 1px rgba(60, 64, 67, 0.15);\n",
              "      fill: #174EA6;\n",
              "    }\n",
              "\n",
              "    [theme=dark] .colab-df-convert {\n",
              "      background-color: #3B4455;\n",
              "      fill: #D2E3FC;\n",
              "    }\n",
              "\n",
              "    [theme=dark] .colab-df-convert:hover {\n",
              "      background-color: #434B5C;\n",
              "      box-shadow: 0px 1px 3px 1px rgba(0, 0, 0, 0.15);\n",
              "      filter: drop-shadow(0px 1px 2px rgba(0, 0, 0, 0.3));\n",
              "      fill: #FFFFFF;\n",
              "    }\n",
              "  </style>\n",
              "\n",
              "      <script>\n",
              "        const buttonEl =\n",
              "          document.querySelector('#df-3928f591-15ca-4e7b-ae3d-97b1146edab4 button.colab-df-convert');\n",
              "        buttonEl.style.display =\n",
              "          google.colab.kernel.accessAllowed ? 'block' : 'none';\n",
              "\n",
              "        async function convertToInteractive(key) {\n",
              "          const element = document.querySelector('#df-3928f591-15ca-4e7b-ae3d-97b1146edab4');\n",
              "          const dataTable =\n",
              "            await google.colab.kernel.invokeFunction('convertToInteractive',\n",
              "                                                     [key], {});\n",
              "          if (!dataTable) return;\n",
              "\n",
              "          const docLinkHtml = 'Like what you see? Visit the ' +\n",
              "            '<a target=\"_blank\" href=https://colab.research.google.com/notebooks/data_table.ipynb>data table notebook</a>'\n",
              "            + ' to learn more about interactive tables.';\n",
              "          element.innerHTML = '';\n",
              "          dataTable['output_type'] = 'display_data';\n",
              "          await google.colab.output.renderOutput(dataTable, element);\n",
              "          const docLink = document.createElement('div');\n",
              "          docLink.innerHTML = docLinkHtml;\n",
              "          element.appendChild(docLink);\n",
              "        }\n",
              "      </script>\n",
              "    </div>\n",
              "  </div>\n",
              "  "
            ]
          },
          "metadata": {},
          "execution_count": 8
        }
      ]
    },
    {
      "cell_type": "code",
      "source": [
        "# Finding out the structure of the train dataset\n",
        "print(\"Shape: \",loan_train_data.shape)"
      ],
      "metadata": {
        "colab": {
          "base_uri": "https://localhost:8080/"
        },
        "id": "pG0tg9BuoJsl",
        "outputId": "be004b90-1538-4cbc-e8b6-6710d578a173"
      },
      "execution_count": 16,
      "outputs": [
        {
          "output_type": "stream",
          "name": "stdout",
          "text": [
            "Shape:  (614, 13)\n"
          ]
        }
      ]
    },
    {
      "cell_type": "markdown",
      "source": [
        "The train dataset has a total of 614 observations/entries and 13 columns."
      ],
      "metadata": {
        "id": "fbVeSi3DoY-v"
      }
    },
    {
      "cell_type": "code",
      "source": [
        "# Finding out the structure of the test dataset\n",
        "print(\"Shape:\",loan_test_data.shape)"
      ],
      "metadata": {
        "colab": {
          "base_uri": "https://localhost:8080/"
        },
        "id": "a4tSCic7oivw",
        "outputId": "9a092d96-4288-44cc-b709-81e0beae3330"
      },
      "execution_count": 15,
      "outputs": [
        {
          "output_type": "stream",
          "name": "stdout",
          "text": [
            "Shape: (367, 12)\n"
          ]
        }
      ]
    },
    {
      "cell_type": "markdown",
      "source": [
        "The test dataset has a total of 367 observations/entries and 12 columns. The target variable (loan status) is not included in the test dataset."
      ],
      "metadata": {
        "id": "Q7o9JK3NotQb"
      }
    },
    {
      "cell_type": "markdown",
      "source": [
        "Lets further print the train dataset columns as a list"
      ],
      "metadata": {
        "id": "oPTW70xXpwwd"
      }
    },
    {
      "cell_type": "code",
      "source": [
        "loan_train_columns = loan_train_data.columns\n",
        "loan_train_columns"
      ],
      "metadata": {
        "colab": {
          "base_uri": "https://localhost:8080/"
        },
        "id": "9EgctWj6pG8m",
        "outputId": "ef419fa6-e963-465e-8789-7e6cada5e783"
      },
      "execution_count": 18,
      "outputs": [
        {
          "output_type": "execute_result",
          "data": {
            "text/plain": [
              "Index(['Loan_ID', 'Gender', 'Married', 'Dependents', 'Education',\n",
              "       'Self_Employed', 'ApplicantIncome', 'CoapplicantIncome', 'LoanAmount',\n",
              "       'Loan_Amount_Term', 'Credit_History', 'Property_Area', 'Loan_Status'],\n",
              "      dtype='object')"
            ]
          },
          "metadata": {},
          "execution_count": 18
        }
      ]
    },
    {
      "cell_type": "markdown",
      "source": [
        "**Getting the data description**"
      ],
      "metadata": {
        "id": "0CVlkoM3qM5_"
      }
    },
    {
      "cell_type": "code",
      "source": [
        "loan_train_data.describe()"
      ],
      "metadata": {
        "colab": {
          "base_uri": "https://localhost:8080/",
          "height": 300
        },
        "id": "Y41TYlcAp-9b",
        "outputId": "b9a34abe-dad8-4193-8384-89d2282d044a"
      },
      "execution_count": 19,
      "outputs": [
        {
          "output_type": "execute_result",
          "data": {
            "text/plain": [
              "       ApplicantIncome  CoapplicantIncome  LoanAmount  Loan_Amount_Term  \\\n",
              "count       614.000000         614.000000  592.000000         600.00000   \n",
              "mean       5403.459283        1621.245798  146.412162         342.00000   \n",
              "std        6109.041673        2926.248369   85.587325          65.12041   \n",
              "min         150.000000           0.000000    9.000000          12.00000   \n",
              "25%        2877.500000           0.000000  100.000000         360.00000   \n",
              "50%        3812.500000        1188.500000  128.000000         360.00000   \n",
              "75%        5795.000000        2297.250000  168.000000         360.00000   \n",
              "max       81000.000000       41667.000000  700.000000         480.00000   \n",
              "\n",
              "       Credit_History  \n",
              "count      564.000000  \n",
              "mean         0.842199  \n",
              "std          0.364878  \n",
              "min          0.000000  \n",
              "25%          1.000000  \n",
              "50%          1.000000  \n",
              "75%          1.000000  \n",
              "max          1.000000  "
            ],
            "text/html": [
              "\n",
              "  <div id=\"df-bbe0419f-1a77-43ad-bae6-e38e441d3bff\">\n",
              "    <div class=\"colab-df-container\">\n",
              "      <div>\n",
              "<style scoped>\n",
              "    .dataframe tbody tr th:only-of-type {\n",
              "        vertical-align: middle;\n",
              "    }\n",
              "\n",
              "    .dataframe tbody tr th {\n",
              "        vertical-align: top;\n",
              "    }\n",
              "\n",
              "    .dataframe thead th {\n",
              "        text-align: right;\n",
              "    }\n",
              "</style>\n",
              "<table border=\"1\" class=\"dataframe\">\n",
              "  <thead>\n",
              "    <tr style=\"text-align: right;\">\n",
              "      <th></th>\n",
              "      <th>ApplicantIncome</th>\n",
              "      <th>CoapplicantIncome</th>\n",
              "      <th>LoanAmount</th>\n",
              "      <th>Loan_Amount_Term</th>\n",
              "      <th>Credit_History</th>\n",
              "    </tr>\n",
              "  </thead>\n",
              "  <tbody>\n",
              "    <tr>\n",
              "      <th>count</th>\n",
              "      <td>614.000000</td>\n",
              "      <td>614.000000</td>\n",
              "      <td>592.000000</td>\n",
              "      <td>600.00000</td>\n",
              "      <td>564.000000</td>\n",
              "    </tr>\n",
              "    <tr>\n",
              "      <th>mean</th>\n",
              "      <td>5403.459283</td>\n",
              "      <td>1621.245798</td>\n",
              "      <td>146.412162</td>\n",
              "      <td>342.00000</td>\n",
              "      <td>0.842199</td>\n",
              "    </tr>\n",
              "    <tr>\n",
              "      <th>std</th>\n",
              "      <td>6109.041673</td>\n",
              "      <td>2926.248369</td>\n",
              "      <td>85.587325</td>\n",
              "      <td>65.12041</td>\n",
              "      <td>0.364878</td>\n",
              "    </tr>\n",
              "    <tr>\n",
              "      <th>min</th>\n",
              "      <td>150.000000</td>\n",
              "      <td>0.000000</td>\n",
              "      <td>9.000000</td>\n",
              "      <td>12.00000</td>\n",
              "      <td>0.000000</td>\n",
              "    </tr>\n",
              "    <tr>\n",
              "      <th>25%</th>\n",
              "      <td>2877.500000</td>\n",
              "      <td>0.000000</td>\n",
              "      <td>100.000000</td>\n",
              "      <td>360.00000</td>\n",
              "      <td>1.000000</td>\n",
              "    </tr>\n",
              "    <tr>\n",
              "      <th>50%</th>\n",
              "      <td>3812.500000</td>\n",
              "      <td>1188.500000</td>\n",
              "      <td>128.000000</td>\n",
              "      <td>360.00000</td>\n",
              "      <td>1.000000</td>\n",
              "    </tr>\n",
              "    <tr>\n",
              "      <th>75%</th>\n",
              "      <td>5795.000000</td>\n",
              "      <td>2297.250000</td>\n",
              "      <td>168.000000</td>\n",
              "      <td>360.00000</td>\n",
              "      <td>1.000000</td>\n",
              "    </tr>\n",
              "    <tr>\n",
              "      <th>max</th>\n",
              "      <td>81000.000000</td>\n",
              "      <td>41667.000000</td>\n",
              "      <td>700.000000</td>\n",
              "      <td>480.00000</td>\n",
              "      <td>1.000000</td>\n",
              "    </tr>\n",
              "  </tbody>\n",
              "</table>\n",
              "</div>\n",
              "      <button class=\"colab-df-convert\" onclick=\"convertToInteractive('df-bbe0419f-1a77-43ad-bae6-e38e441d3bff')\"\n",
              "              title=\"Convert this dataframe to an interactive table.\"\n",
              "              style=\"display:none;\">\n",
              "        \n",
              "  <svg xmlns=\"http://www.w3.org/2000/svg\" height=\"24px\"viewBox=\"0 0 24 24\"\n",
              "       width=\"24px\">\n",
              "    <path d=\"M0 0h24v24H0V0z\" fill=\"none\"/>\n",
              "    <path d=\"M18.56 5.44l.94 2.06.94-2.06 2.06-.94-2.06-.94-.94-2.06-.94 2.06-2.06.94zm-11 1L8.5 8.5l.94-2.06 2.06-.94-2.06-.94L8.5 2.5l-.94 2.06-2.06.94zm10 10l.94 2.06.94-2.06 2.06-.94-2.06-.94-.94-2.06-.94 2.06-2.06.94z\"/><path d=\"M17.41 7.96l-1.37-1.37c-.4-.4-.92-.59-1.43-.59-.52 0-1.04.2-1.43.59L10.3 9.45l-7.72 7.72c-.78.78-.78 2.05 0 2.83L4 21.41c.39.39.9.59 1.41.59.51 0 1.02-.2 1.41-.59l7.78-7.78 2.81-2.81c.8-.78.8-2.07 0-2.86zM5.41 20L4 18.59l7.72-7.72 1.47 1.35L5.41 20z\"/>\n",
              "  </svg>\n",
              "      </button>\n",
              "      \n",
              "  <style>\n",
              "    .colab-df-container {\n",
              "      display:flex;\n",
              "      flex-wrap:wrap;\n",
              "      gap: 12px;\n",
              "    }\n",
              "\n",
              "    .colab-df-convert {\n",
              "      background-color: #E8F0FE;\n",
              "      border: none;\n",
              "      border-radius: 50%;\n",
              "      cursor: pointer;\n",
              "      display: none;\n",
              "      fill: #1967D2;\n",
              "      height: 32px;\n",
              "      padding: 0 0 0 0;\n",
              "      width: 32px;\n",
              "    }\n",
              "\n",
              "    .colab-df-convert:hover {\n",
              "      background-color: #E2EBFA;\n",
              "      box-shadow: 0px 1px 2px rgba(60, 64, 67, 0.3), 0px 1px 3px 1px rgba(60, 64, 67, 0.15);\n",
              "      fill: #174EA6;\n",
              "    }\n",
              "\n",
              "    [theme=dark] .colab-df-convert {\n",
              "      background-color: #3B4455;\n",
              "      fill: #D2E3FC;\n",
              "    }\n",
              "\n",
              "    [theme=dark] .colab-df-convert:hover {\n",
              "      background-color: #434B5C;\n",
              "      box-shadow: 0px 1px 3px 1px rgba(0, 0, 0, 0.15);\n",
              "      filter: drop-shadow(0px 1px 2px rgba(0, 0, 0, 0.3));\n",
              "      fill: #FFFFFF;\n",
              "    }\n",
              "  </style>\n",
              "\n",
              "      <script>\n",
              "        const buttonEl =\n",
              "          document.querySelector('#df-bbe0419f-1a77-43ad-bae6-e38e441d3bff button.colab-df-convert');\n",
              "        buttonEl.style.display =\n",
              "          google.colab.kernel.accessAllowed ? 'block' : 'none';\n",
              "\n",
              "        async function convertToInteractive(key) {\n",
              "          const element = document.querySelector('#df-bbe0419f-1a77-43ad-bae6-e38e441d3bff');\n",
              "          const dataTable =\n",
              "            await google.colab.kernel.invokeFunction('convertToInteractive',\n",
              "                                                     [key], {});\n",
              "          if (!dataTable) return;\n",
              "\n",
              "          const docLinkHtml = 'Like what you see? Visit the ' +\n",
              "            '<a target=\"_blank\" href=https://colab.research.google.com/notebooks/data_table.ipynb>data table notebook</a>'\n",
              "            + ' to learn more about interactive tables.';\n",
              "          element.innerHTML = '';\n",
              "          dataTable['output_type'] = 'display_data';\n",
              "          await google.colab.output.renderOutput(dataTable, element);\n",
              "          const docLink = document.createElement('div');\n",
              "          docLink.innerHTML = docLinkHtml;\n",
              "          element.appendChild(docLink);\n",
              "        }\n",
              "      </script>\n",
              "    </div>\n",
              "  </div>\n",
              "  "
            ]
          },
          "metadata": {},
          "execution_count": 19
        }
      ]
    },
    {
      "cell_type": "code",
      "source": [
        "# Checking the data types of every varaible\n",
        "\n",
        "loan_train_data.dtypes"
      ],
      "metadata": {
        "colab": {
          "base_uri": "https://localhost:8080/"
        },
        "id": "12C4rqhXq6b-",
        "outputId": "1887d0bd-eccf-4333-bdee-488e6c5cd841"
      },
      "execution_count": 20,
      "outputs": [
        {
          "output_type": "execute_result",
          "data": {
            "text/plain": [
              "Loan_ID               object\n",
              "Gender                object\n",
              "Married               object\n",
              "Dependents            object\n",
              "Education             object\n",
              "Self_Employed         object\n",
              "ApplicantIncome        int64\n",
              "CoapplicantIncome    float64\n",
              "LoanAmount           float64\n",
              "Loan_Amount_Term     float64\n",
              "Credit_History       float64\n",
              "Property_Area         object\n",
              "Loan_Status           object\n",
              "dtype: object"
            ]
          },
          "metadata": {},
          "execution_count": 20
        }
      ]
    },
    {
      "cell_type": "markdown",
      "source": [
        "Checking how values are distributed in the categorical datasets, for example gender."
      ],
      "metadata": {
        "id": "WSf6vwB5rRIn"
      }
    },
    {
      "cell_type": "code",
      "source": [
        "def explore_object_type(df ,feature_name):\n",
        "     \n",
        "    if df[feature_name].dtype ==  'object':\n",
        "        print(df[feature_name].value_counts())"
      ],
      "metadata": {
        "id": "U3UkUdderbUx"
      },
      "execution_count": 21,
      "outputs": []
    },
    {
      "cell_type": "code",
      "source": [
        "for featureName in loan_train_columns:\n",
        "    if loan_train_data[featureName].dtype == 'object':\n",
        "        print('\\n\"' + str(featureName) + '\\'s\" Values with count are :')\n",
        "        explore_object_type(loan_train_data, str(featureName))"
      ],
      "metadata": {
        "colab": {
          "base_uri": "https://localhost:8080/"
        },
        "id": "ezPEzgL5rjQE",
        "outputId": "076a91be-e2b7-47bd-8cf3-c296726ddc6f"
      },
      "execution_count": 24,
      "outputs": [
        {
          "output_type": "stream",
          "name": "stdout",
          "text": [
            "\n",
            "\"Loan_ID's\" Values with count are :\n",
            "LP001002    1\n",
            "LP002328    1\n",
            "LP002305    1\n",
            "LP002308    1\n",
            "LP002314    1\n",
            "           ..\n",
            "LP001692    1\n",
            "LP001693    1\n",
            "LP001698    1\n",
            "LP001699    1\n",
            "LP002990    1\n",
            "Name: Loan_ID, Length: 614, dtype: int64\n",
            "\n",
            "\"Gender's\" Values with count are :\n",
            "Male      489\n",
            "Female    112\n",
            "Name: Gender, dtype: int64\n",
            "\n",
            "\"Married's\" Values with count are :\n",
            "Yes    398\n",
            "No     213\n",
            "Name: Married, dtype: int64\n",
            "\n",
            "\"Dependents's\" Values with count are :\n",
            "0     345\n",
            "1     102\n",
            "2     101\n",
            "3+     51\n",
            "Name: Dependents, dtype: int64\n",
            "\n",
            "\"Education's\" Values with count are :\n",
            "Graduate        480\n",
            "Not Graduate    134\n",
            "Name: Education, dtype: int64\n",
            "\n",
            "\"Self_Employed's\" Values with count are :\n",
            "No     500\n",
            "Yes     82\n",
            "Name: Self_Employed, dtype: int64\n",
            "\n",
            "\"Property_Area's\" Values with count are :\n",
            "Semiurban    233\n",
            "Urban        202\n",
            "Rural        179\n",
            "Name: Property_Area, dtype: int64\n",
            "\n",
            "\"Loan_Status's\" Values with count are :\n",
            "Y    422\n",
            "N    192\n",
            "Name: Loan_Status, dtype: int64\n"
          ]
        }
      ]
    },
    {
      "cell_type": "markdown",
      "source": [
        "### **Checking and dealing with missing values**"
      ],
      "metadata": {
        "id": "gS1kLlbfsT71"
      }
    },
    {
      "cell_type": "code",
      "source": [
        "# Listing the missing values for each variable in the train data.\n",
        "loan_train_data.isnull().sum()"
      ],
      "metadata": {
        "colab": {
          "base_uri": "https://localhost:8080/"
        },
        "id": "Lne4jwOMsNaE",
        "outputId": "5d6f88b5-aaca-42dd-ec53-5c5ace8c2d8e"
      },
      "execution_count": 26,
      "outputs": [
        {
          "output_type": "execute_result",
          "data": {
            "text/plain": [
              "Loan_ID               0\n",
              "Gender               13\n",
              "Married               3\n",
              "Dependents           15\n",
              "Education             0\n",
              "Self_Employed        32\n",
              "ApplicantIncome       0\n",
              "CoapplicantIncome     0\n",
              "LoanAmount           22\n",
              "Loan_Amount_Term     14\n",
              "Credit_History       50\n",
              "Property_Area         0\n",
              "Loan_Status           0\n",
              "dtype: int64"
            ]
          },
          "metadata": {},
          "execution_count": 26
        }
      ]
    },
    {
      "cell_type": "markdown",
      "source": [
        "Visualizing the non-null values for each variable (length of every variable)"
      ],
      "metadata": {
        "id": "5za83110suGl"
      }
    },
    {
      "cell_type": "code",
      "source": [
        "msno.bar(loan_train_data)\n",
        "plt.show();"
      ],
      "metadata": {
        "colab": {
          "base_uri": "https://localhost:8080/",
          "height": 702
        },
        "id": "mHkZpv-ds-7P",
        "outputId": "095fd577-6ca1-4722-fa4d-a6daa86f89db"
      },
      "execution_count": 31,
      "outputs": [
        {
          "output_type": "display_data",
          "data": {
            "text/plain": [
              "<Figure size 1800x720 with 3 Axes>"
            ],
            "image/png": "[encoded data removed]"
          },
          "metadata": {
            "needs_background": "light"
          }
        }
      ]
    },
    {
      "cell_type": "markdown",
      "source": [
        "To deal with the missing values, we are going to use the mode and mean interpolation methods for Credit_History and LoanAmount for both train and test."
      ],
      "metadata": {
        "id": "oCj4EyywtnHo"
      }
    },
    {
      "cell_type": "code",
      "source": [
        "loan_train_data['Credit_History'].fillna(loan_train_data['Credit_History'].mode(), inplace=True) # Mode\n",
        "loan_test_data['Credit_History'].fillna(loan_test_data['Credit_History'].mode(), inplace=True) # Mode\n",
        "\n",
        "\n",
        "loan_train_data['LoanAmount'].fillna(loan_train_data['LoanAmount'].mean(), inplace=True) # Mean\n",
        "loan_test_data['LoanAmount'].fillna(loan_test_data['LoanAmount'].mean(), inplace=True) # Mean\n"
      ],
      "metadata": {
        "id": "pX2NVkaqt6Jf"
      },
      "execution_count": 34,
      "outputs": []
    },
    {
      "cell_type": "markdown",
      "source": [
        "**Convert Categorical variable with Numerical values**\n",
        "\n",
        "Loan_Status feature boolean values, So we replace Y values with 1 and N values with 0 and same for other Boolean types of columns"
      ],
      "metadata": {
        "id": "gjeEAeCauuuG"
      }
    },
    {
      "cell_type": "code",
      "source": [
        "loan_train_data.Loan_Status = loan_train_data.Loan_Status.replace({\"Y\": 1, \"N\" : 0})\n",
        "\n",
        "loan_train_data.Gender = loan_train_data.Gender.replace({\"Male\": 1, \"Female\" : 0})\n",
        "loan_test_data.Gender = loan_test_data.Gender.replace({\"Male\": 1, \"Female\" : 0})\n",
        "\n",
        "loan_train_data.Married = loan_train_data.Married.replace({\"Yes\": 1, \"No\" : 0})\n",
        "loan_test_data.Married = loan_test_data.Married.replace({\"Yes\": 1, \"No\" : 0})\n",
        "\n",
        "loan_train_data.Self_Employed = loan_train_data.Self_Employed.replace({\"Yes\": 1, \"No\" : 0})\n",
        "loan_test_data.Self_Employed = loan_test_data.Self_Employed.replace({\"Yes\": 1, \"No\" : 0})"
      ],
      "metadata": {
        "id": "lrU3YRV9uY1C"
      },
      "execution_count": 36,
      "outputs": []
    },
    {
      "cell_type": "markdown",
      "source": [
        "Dealing futher with missing values"
      ],
      "metadata": {
        "id": "7N3VksFOwVhP"
      }
    },
    {
      "cell_type": "code",
      "source": [
        "loan_train_data['Gender'].fillna(loan_train_data['Gender'].mode()[0], inplace=True)\n",
        "loan_test_data['Gender'].fillna(loan_test_data['Gender'].mode()[0], inplace=True)\n",
        "\n",
        "loan_train_data['Dependents'].fillna(loan_train_data['Dependents'].mode()[0], inplace=True)\n",
        "loan_test_data['Dependents'].fillna(loan_test_data['Dependents'].mode()[0], inplace=True)\n",
        "\n",
        "loan_train_data['Married'].fillna(loan_train_data['Married'].mode()[0], inplace=True)\n",
        "loan_test_data['Married'].fillna(loan_test_data['Married'].mode()[0], inplace=True)"
      ],
      "metadata": {
        "id": "ZJt-VzPHv9ti"
      },
      "execution_count": 38,
      "outputs": []
    },
    {
      "cell_type": "markdown",
      "source": [
        "Here, Property_Area, Dependents and Education have multiple values so now we can use LabelEncoder from sklearn package"
      ],
      "metadata": {
        "id": "7Oa-ZO2OwfhP"
      }
    },
    {
      "cell_type": "code",
      "source": [
        "feature_col = ['Property_Area','Education', 'Dependents']\n",
        "le = LabelEncoder()\n",
        "for col in feature_col:\n",
        "    loan_train_data[col] = le.fit_transform(loan_train_data[col])\n",
        "    loan_test_data[col] = le.fit_transform(loan_test_data[col])"
      ],
      "metadata": {
        "id": "QMf0ijW2wjSa"
      },
      "execution_count": 42,
      "outputs": []
    },
    {
      "cell_type": "markdown",
      "source": [
        "### **Data Visualizations**"
      ],
      "metadata": {
        "id": "j8ztEyT0xAxe"
      }
    },
    {
      "cell_type": "code",
      "source": [
        "plt.figure(figsize=(18, 6))\n",
        "plt.subplot(1, 2, 1)\n",
        "\n",
        "\n",
        "loan_train_data['ApplicantIncome'].hist(bins=10)\n",
        "plt.title(\"Loan Application Amount \")\n",
        "\n",
        "plt.subplot(1, 2, 2)\n",
        "plt.grid()\n",
        "# transforming the loan amount using a log transform\n",
        "plt.hist(np.log(loan_train_data['LoanAmount']))\n",
        "plt.title(\"Log Loan Application Amount \")\n",
        "\n",
        "plt.show()"
      ],
      "metadata": {
        "colab": {
          "base_uri": "https://localhost:8080/",
          "height": 390
        },
        "id": "RuIAK0QXxCgo",
        "outputId": "b7d161ca-dee9-4e3a-fce6-68cc7c000d68"
      },
      "execution_count": 45,
      "outputs": [
        {
          "output_type": "display_data",
          "data": {
            "text/plain": [
              "<Figure size 1296x432 with 2 Axes>"
            ],
            "image/png": "[encoded data removed]"
          },
          "metadata": {}
        }
      ]
    },
    {
      "cell_type": "code",
      "source": [
        "plt.figure(figsize=(18, 6))\n",
        "plt.title(\"Relation Between Applicants Income vs Loan Amount \")\n",
        "\n",
        "plt.grid()\n",
        "plt.scatter(loan_train_data['ApplicantIncome'] , loan_train_data['LoanAmount'], c='k', marker='x')\n",
        "plt.xlabel(\"Applicant Income\")\n",
        "plt.ylabel(\"Loan Amount\")\n",
        "plt.show()"
      ],
      "metadata": {
        "colab": {
          "base_uri": "https://localhost:8080/",
          "height": 404
        },
        "id": "Kec0oUw3xz9g",
        "outputId": "2d38f8d7-9b82-489b-a9fa-193c23295f1e"
      },
      "execution_count": 47,
      "outputs": [
        {
          "output_type": "display_data",
          "data": {
            "text/plain": [
              "<Figure size 1296x432 with 1 Axes>"
            ],
            "image/png": "[encoded data removed]"
          },
          "metadata": {}
        }
      ]
    },
    {
      "cell_type": "code",
      "source": [
        "plt.figure(figsize=(18, 6))\n",
        "plt.title(\"Relation Between Loan Amount vs Loan Status \")\n",
        "\n",
        "plt.grid()\n",
        "plt.scatter( loan_train_data['LoanAmount'], loan_train_data['Loan_Status'], c='k', marker='o')\n",
        "plt.xlabel(\"Applicant Income\")\n",
        "plt.ylabel(\"Loan Amount\")\n",
        "plt.show()"
      ],
      "metadata": {
        "colab": {
          "base_uri": "https://localhost:8080/",
          "height": 404
        },
        "id": "JzcpTfmsyXSl",
        "outputId": "6ebb00ff-2c9b-41f2-d18b-a1cd4ddf3d05"
      },
      "execution_count": 51,
      "outputs": [
        {
          "output_type": "display_data",
          "data": {
            "text/plain": [
              "<Figure size 1296x432 with 1 Axes>"
            ],
            "image/png": "[encoded data removed]"
          },
          "metadata": {}
        }
      ]
    },
    {
      "cell_type": "markdown",
      "source": [
        "Checking for variable relationship"
      ],
      "metadata": {
        "id": "JndJ261by29e"
      }
    },
    {
      "cell_type": "code",
      "source": [
        "plt.figure(figsize=(12,8))\n",
        "sns.heatmap(loan_train_data.corr(), cmap='Greens', annot=True, fmt='.1f', linewidths=.1)\n",
        "plt.show()"
      ],
      "metadata": {
        "colab": {
          "base_uri": "https://localhost:8080/",
          "height": 574
        },
        "id": "1aVv3DH6y6fB",
        "outputId": "c7cd666f-59b5-4cb1-bca9-93830670c6c0"
      },
      "execution_count": 54,
      "outputs": [
        {
          "output_type": "display_data",
          "data": {
            "text/plain": [
              "<Figure size 864x576 with 2 Axes>"
            ],
            "image/png": "[encoded data removed]"
          },
          "metadata": {}
        }
      ]
    },
    {
      "cell_type": "markdown",
      "source": [
        "### **Model Choosing**\n",
        "The model chosen for this task is the logistic regression model."
      ],
      "metadata": {
        "id": "RoBpasfMzPw0"
      }
    },
    {
      "cell_type": "code",
      "source": [
        "from sklearn.linear_model import LogisticRegression\n",
        "from sklearn.metrics import accuracy_score"
      ],
      "metadata": {
        "id": "Rz5Z5EqUzVjD"
      },
      "execution_count": 55,
      "outputs": []
    },
    {
      "cell_type": "markdown",
      "source": [
        "Here is a brief overview of the logistic regression mode.\n",
        "\n",
        "**Logistic Regression** is a classification algorithm. It is used to predict a binary outcome (1 / 0, Yes / No, and True / False) given a set of independent variables. To represent binary / categorical outcome, we use dummy variables. You can also think of logistic regression as a special case of linear regression when the outcome variable is categorical, where we are using log of odds as the dependent variable. \n",
        "More information can be found [here](https://en.wikipedia.org/wiki/Logistic_regression)\n",
        "\n",
        "**Building the model**"
      ],
      "metadata": {
        "id": "EYY73sSmzt0H"
      }
    },
    {
      "cell_type": "code",
      "source": [
        "logistic_model = LogisticRegression()"
      ],
      "metadata": {
        "id": "syuJoIdHzn2K"
      },
      "execution_count": 56,
      "outputs": []
    },
    {
      "cell_type": "markdown",
      "source": [
        "**Traing the ML Model**\n",
        "\n",
        "To train the model, we are going to use Credit_History, Education and Gender features."
      ],
      "metadata": {
        "id": "SETKCs-_0b85"
      }
    },
    {
      "cell_type": "code",
      "source": [
        "train_features = ['Credit_History', 'Education', 'Gender']\n",
        "\n",
        "x_train = loan_train_data[train_features].values\n",
        "y_train = loan_train_data['Loan_Status'].values\n",
        "\n",
        "x_test = loan_test_data[train_features].values"
      ],
      "metadata": {
        "id": "AM0U_C700eB-"
      },
      "execution_count": 57,
      "outputs": []
    },
    {
      "cell_type": "markdown",
      "source": [
        "**Fitting the model**"
      ],
      "metadata": {
        "id": "JemDukBA1FA3"
      }
    },
    {
      "cell_type": "code",
      "source": [
        "logistic_model.fit(x_train, y_train)"
      ],
      "metadata": {
        "colab": {
          "base_uri": "https://localhost:8080/"
        },
        "id": "XTcdrMZb1A1n",
        "outputId": "5b1255ac-d03d-4634-fd34-34062e81597e"
      },
      "execution_count": 58,
      "outputs": [
        {
          "output_type": "execute_result",
          "data": {
            "text/plain": [
              "LogisticRegression()"
            ]
          },
          "metadata": {},
          "execution_count": 58
        }
      ]
    },
    {
      "cell_type": "markdown",
      "source": [
        "**Predicting loan status using the test dataset**"
      ],
      "metadata": {
        "id": "owB3RiGC1Mhj"
      }
    },
    {
      "cell_type": "code",
      "source": [
        "Predicted_Loan_Status = logistic_model.predict(x_test)\n",
        "Predicted_Loan_Status"
      ],
      "metadata": {
        "colab": {
          "base_uri": "https://localhost:8080/"
        },
        "id": "J_OYEHV_1deD",
        "outputId": "1158030d-f11c-458b-bd23-2ba67caeb113"
      },
      "execution_count": 64,
      "outputs": [
        {
          "output_type": "execute_result",
          "data": {
            "text/plain": [
              "array([1, 1, 1, 1, 1, 1, 1, 0, 1, 1, 1, 1, 1, 0, 1, 1, 1, 1, 1, 1, 1, 1,\n",
              "       1, 1, 1, 0, 1, 1, 1, 1, 1, 1, 1, 1, 1, 0, 1, 1, 1, 1, 1, 1, 1, 1,\n",
              "       1, 1, 1, 1, 1, 1, 1, 1, 1, 1, 1, 0, 1, 1, 0, 1, 1, 1, 1, 0, 1, 1,\n",
              "       0, 0, 1, 0, 1, 1, 1, 1, 1, 1, 1, 1, 1, 1, 0, 1, 0, 1, 0, 1, 1, 1,\n",
              "       1, 1, 1, 1, 1, 1, 0, 1, 1, 1, 1, 1, 1, 0, 1, 1, 1, 1, 0, 1, 1, 1,\n",
              "       1, 1, 1, 1, 1, 1, 1, 0, 0, 0, 1, 1, 1, 0, 0, 1, 0, 1, 1, 1, 1, 1,\n",
              "       1, 1, 1, 1, 1, 1, 1, 1, 0, 1, 0, 1, 1, 1, 1, 0, 1, 1, 1, 1, 1, 0,\n",
              "       1, 1, 1, 1, 1, 1, 1, 0, 1, 1, 1, 0, 0, 1, 0, 1, 1, 1, 1, 0, 0, 1,\n",
              "       1, 1, 1, 1, 1, 1, 1, 1, 1, 1, 1, 1, 1, 1, 1, 1, 0, 0, 1, 1, 0, 1,\n",
              "       0, 1, 1, 1, 1, 1, 1, 1, 1, 1, 1, 1, 1, 0, 1, 1, 1, 1, 1, 1, 1, 1,\n",
              "       1, 1, 1, 1, 0, 1, 1, 1, 1, 0, 1, 1, 1, 1, 1, 0, 0, 1, 1, 1, 1, 0,\n",
              "       1, 0, 1, 0, 1, 1, 1, 1, 0, 1, 1, 1, 1, 0, 1, 1, 1, 1, 1, 1, 1, 1,\n",
              "       1, 1, 0, 1, 0, 1, 1, 1, 1, 0, 0, 1, 1, 1, 0, 1, 1, 1, 1, 1, 1, 1,\n",
              "       1, 1, 1, 1, 1, 1, 1, 0, 1, 1, 1, 1, 1, 1, 1, 0, 1, 1, 1, 1, 1, 1,\n",
              "       1, 1, 1, 0, 1, 1, 1, 1, 1, 0, 1, 1, 1, 1, 1, 1, 1, 0, 1, 1, 1, 1,\n",
              "       1, 1, 1, 1, 1, 1, 1, 1, 1, 0, 1, 1, 1, 1, 1, 1, 0, 1, 1, 1, 1, 1,\n",
              "       1, 1, 0, 1, 1, 1, 1, 1, 1, 1, 1, 1, 1, 1, 1])"
            ]
          },
          "metadata": {},
          "execution_count": 64
        }
      ]
    },
    {
      "cell_type": "code",
      "source": [
        "# Printing model coefficients\n",
        "print('Coefficient of model :', logistic_model.coef_)\n"
      ],
      "metadata": {
        "colab": {
          "base_uri": "https://localhost:8080/"
        },
        "id": "IIr00z2a1rZX",
        "outputId": "d003268d-c5c4-4c85-c04e-007892a2f0cb"
      },
      "execution_count": 60,
      "outputs": [
        {
          "output_type": "stream",
          "name": "stdout",
          "text": [
            "Coefficient of model : [[ 3.316164   -0.3059193   0.09398266]]\n"
          ]
        }
      ]
    },
    {
      "cell_type": "code",
      "source": [
        "# Printing the model intercept\n",
        "print('Intercept of model',logistic_model.intercept_)"
      ],
      "metadata": {
        "colab": {
          "base_uri": "https://localhost:8080/"
        },
        "id": "K-xq2fWm13R4",
        "outputId": "254d27d8-2c3e-450c-9038-515658614d05"
      },
      "execution_count": 61,
      "outputs": [
        {
          "output_type": "stream",
          "name": "stdout",
          "text": [
            "Intercept of model [-1.98307795]\n"
          ]
        }
      ]
    },
    {
      "cell_type": "markdown",
      "source": [
        "### **Evaluating the model performance**"
      ],
      "metadata": {
        "id": "Nez0ODuX2CO7"
      }
    },
    {
      "cell_type": "code",
      "source": [
        "score = logistic_model.score(x_train, y_train)\n",
        "print('accuracy_score overall :', score)\n",
        "print('accuracy_score percent :', round(score*100,2),'%')"
      ],
      "metadata": {
        "colab": {
          "base_uri": "https://localhost:8080/"
        },
        "id": "EInq0eOw2GRL",
        "outputId": "23f1e082-e03a-4b8e-fa49-09f2ef7795e6"
      },
      "execution_count": 63,
      "outputs": [
        {
          "output_type": "stream",
          "name": "stdout",
          "text": [
            "accuracy_score overall : 0.8094462540716613\n",
            "accuracy_score percent : 80.94 %\n"
          ]
        }
      ]
    },
    {
      "cell_type": "markdown",
      "source": [
        "### **Model deployment**\n",
        "\n",
        "The last step is to deploy our model in production map. So, we need to export our model and bind with web application API.\n",
        "\n",
        "Using pickle we can export our model and store it to a logistic_model.pkl file, so we can easily access this file and calculate customize prediction using Web App API.\n",
        "\n",
        "**Here is a brief overview of what pickle is:**\n",
        "\n",
        "Pickle is the standard way of serializing objects in Python. You can use the pickle operation to serialize your machine learning algorithms and save the serialized format to a file. Later you can load this file to deserialize your model and use it to make new predictions. Find more information [here](hhttps://docs.python.org/3/library/pickle.html)"
      ],
      "metadata": {
        "id": "PS2jJmMX2zTG"
      }
    },
    {
      "cell_type": "code",
      "source": [
        "# save the model to disk\n",
        "filename = 'logistic_model.pkl'\n",
        "pkl.dump(logistic_model, open(filename, 'wb')) # wb means write as binary"
      ],
      "metadata": {
        "id": "3LrqCAHj3-6D"
      },
      "execution_count": 67,
      "outputs": []
    }
  ]
}